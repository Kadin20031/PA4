{
 "cells": [
  {
   "cell_type": "markdown",
   "id": "1f1f24a3",
   "metadata": {},
   "source": [
    "## Kadin McWilliams \n",
    "## Assigment 4\n",
    "## Version 1\n",
    "## Fall 2023\n"
   ]
  },
  {
   "cell_type": "markdown",
   "id": "3a16c136",
   "metadata": {},
   "source": [
    "# Task 1: Grade Calculator"
   ]
  },
  {
   "cell_type": "code",
   "execution_count": 24,
   "id": "065a279a",
   "metadata": {},
   "outputs": [
    {
     "name": "stdout",
     "output_type": "stream",
     "text": [
      "Grade is C\n",
      "76.0\n"
     ]
    }
   ],
   "source": [
    "grades=[50,83,65,96,86]\n",
    "gradeAvg=(sum(grades)/len(grades))\n",
    "if gradeAvg>=90:\n",
    "    print(\"Grade is A\")\n",
    "elif gradeAvg >= 80:\n",
    "    print(\"Grade is B\")\n",
    "elif gradeAvg >= 70:\n",
    "    print(\"Grade is C\")\n",
    "elif gradeAvg >= 60:\n",
    "    print(\"Grade is D\")\n",
    "else:\n",
    "    print(f\"Grade is F\")\n",
    "print(gradeAvg)"
   ]
  },
  {
   "cell_type": "markdown",
   "id": "881c2fef",
   "metadata": {},
   "source": [
    "# Task 2: Tuple Unpacking "
   ]
  },
  {
   "cell_type": "code",
   "execution_count": 25,
   "id": "90a70beb",
   "metadata": {},
   "outputs": [
    {
     "name": "stdout",
     "output_type": "stream",
     "text": [
      "Kadin\n",
      "McWilliams\n",
      "20\n",
      "Psychology\n",
      "Student is an adult\n"
     ]
    }
   ],
   "source": [
    "student=('Kadin','McWilliams',20,'Psychology')\n",
    "first, last, age, subject = student \n",
    "for i in student:\n",
    "    print(i)\n",
    "if age >= 18:\n",
    "    print(\"Student is an adult\")\n",
    "else :\n",
    "    print(\"Student is a minor\")\n"
   ]
  },
  {
   "cell_type": "markdown",
   "id": "d2e4dc93",
   "metadata": {},
   "source": [
    "# Task 3: Month and Date"
   ]
  },
  {
   "cell_type": "code",
   "execution_count": 58,
   "id": "5e9f3bd7",
   "metadata": {},
   "outputs": [
    {
     "name": "stdout",
     "output_type": "stream",
     "text": [
      "Enter a number between 1 and 12: 12\n",
      "The month is December and it has 31 days\n"
     ]
    }
   ],
   "source": [
    "number=int(input(\"Enter a number between 1 and 12: \"))\n",
    "months=([\"January\",31],[\"February\",28],[\"March\",31],[\"April\",30],[\"May\",31],[\"June\",30],[\"July\",31],[\"August\",31],[\"September\",30],[\"October\",31],[\"November\",30],[\"December\",31])\n",
    "if number <= 12 and number >=1:\n",
    "    if number == 1:\n",
    "        print(f\"The month is {months[0][0]} and it has {months[0][1]} days\")\n",
    "    elif number == 2:\n",
    "        print(f\"The month is {months[1][0]} and it has {months[1][1]} days\")\n",
    "    elif number == 3:\n",
    "        print(f\"The month is {months[2][0]} and it has {months[2][1]} days\")\n",
    "    elif number == 4:\n",
    "        print(f\"The month is {months[3][0]} and it has {months[3][1]} days\")\n",
    "    elif number == 5: \n",
    "        print(f\"The month is {months[4][0]} and it has {months[4][1]} days\")\n",
    "    elif number == 6:\n",
    "        print(f\"The month is {months[5][0]} and it has {months[5][1]} days\")\n",
    "    elif number == 7:\n",
    "        print(f\"The month is {months[6][0]} and it has {months[6][1]} days\")\n",
    "    elif number == 8:\n",
    "        print(f\"The month is {months[7][0]} and it has {months[7][1]} days\")\n",
    "    elif number == 9:\n",
    "        print(f\"The month is {months[8][0]} and it has {months[8][1]} days\")\n",
    "    elif number == 10:\n",
    "        print(f\"The month is {months[9][0]} and it has {months[9][1]} days\")\n",
    "    elif number == 11:\n",
    "        print(f\"The month is {months[10][0]} and it has {months[10][1]} days\")\n",
    "    else:\n",
    "        print(f\"The month is {months[11][0]} and it has {months[11][1]} days\")\n",
    "else:\n",
    "    print(\"invalid number\")"
   ]
  },
  {
   "cell_type": "markdown",
   "id": "e92d80aa",
   "metadata": {},
   "source": [
    "# Task 4: Triangle "
   ]
  },
  {
   "cell_type": "code",
   "execution_count": 64,
   "id": "672bb6cf",
   "metadata": {},
   "outputs": [
    {
     "name": "stdout",
     "output_type": "stream",
     "text": [
      "Enter a value for the first side: 1\n",
      "Enter a value for the second side: 2\n",
      "Enter a value for the third side: 3\n",
      "This is a scalene triangle\n"
     ]
    }
   ],
   "source": [
    "s1=int(input(\"Enter a value for the first side: \"))\n",
    "s2=int(input(\"Enter a value for the second side: \"))\n",
    "s3=int(input(\"Enter a value for the third side: \"))\n",
    "if s1 == s2 and s2 == s3:\n",
    "    print(\"This is an equilateral triangle\")\n",
    "elif s1 == s2 or s2 == s3 or s1 == s3:\n",
    "    print(\"This is an isoseceles triangle\")\n",
    "else:\n",
    "    print(\"This is a scalene triangle\")"
   ]
  },
  {
   "cell_type": "markdown",
   "id": "e7834fd1",
   "metadata": {},
   "source": [
    "# Task 5: List Comprehension and Filtering"
   ]
  },
  {
   "cell_type": "code",
   "execution_count": 74,
   "id": "257e462d",
   "metadata": {},
   "outputs": [
    {
     "name": "stdout",
     "output_type": "stream",
     "text": [
      "[484, 576, 676, 784, 900, 1024, 1156, 1296, 1444, 1600]\n",
      "[441, 529, 625, 729, 841, 961, 1089, 1225, 1369, 1521]\n"
     ]
    }
   ],
   "source": [
    "numbers=[i for i in range(21,41)]\n",
    "even_squares=[]\n",
    "odd_squares=[]\n",
    "for values in numbers:\n",
    "    if values%2 ==0:\n",
    "         even_squares.append(values**2)\n",
    "    else:\n",
    "        odd_squares.append(values**2)\n",
    "print(even_squares)\n",
    "print(odd_squares)"
   ]
  }
 ],
 "metadata": {
  "kernelspec": {
   "display_name": "Python 3 (ipykernel)",
   "language": "python",
   "name": "python3"
  },
  "language_info": {
   "codemirror_mode": {
    "name": "ipython",
    "version": 3
   },
   "file_extension": ".py",
   "mimetype": "text/x-python",
   "name": "python",
   "nbconvert_exporter": "python",
   "pygments_lexer": "ipython3",
   "version": "3.11.4"
  }
 },
 "nbformat": 4,
 "nbformat_minor": 5
}
